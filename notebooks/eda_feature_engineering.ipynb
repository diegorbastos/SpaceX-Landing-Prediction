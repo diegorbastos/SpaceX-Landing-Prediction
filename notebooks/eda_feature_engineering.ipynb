{
 "cells": [
  {
   "cell_type": "markdown",
   "id": "0bed1468",
   "metadata": {},
   "source": [
    "# Exploratory Data Analysis (EDA) and Feature Engineering\n",
    "\n",
    "In this notebook, we perform exploratory data analysis on Falcon 9 launch data to identify key patterns and relationships that may impact the success of first stage landings. We also conduct initial feature engineering to prepare the dataset for modeling."
   ]
  },
  {
   "cell_type": "code",
   "execution_count": null,
   "id": "48c8ae58",
   "metadata": {},
   "outputs": [],
   "source": [
    "import pandas as pd\n",
    "import numpy as np\n",
    "import matplotlib.pyplot as plt\n",
    "import seaborn as sns\n",
    "\n",
    "sns.set(style=\"whitegrid\")"
   ]
  },
  {
   "cell_type": "markdown",
   "id": "4957f357",
   "metadata": {},
   "source": [
    "## Data Loading\n",
    "\n",
    "We begin by loading the cleaned dataset from the previous step.\n"
   ]
  },
  {
   "cell_type": "code",
   "execution_count": null,
   "id": "071f0ccb",
   "metadata": {},
   "outputs": [],
   "source": [
    "df = pd.read_csv(\"../data/raw/dataset_part_2.csv\")\n",
    "df.head()"
   ]
  },
  {
   "cell_type": "markdown",
   "id": "e45880de",
   "metadata": {},
   "source": [
    "## Data Overview\n",
    "\n",
    "Review the structure and completeness of the dataset to validate the inputs before visual analysis."
   ]
  },
  {
   "cell_type": "code",
   "execution_count": null,
   "id": "96ece6f6",
   "metadata": {},
   "outputs": [],
   "source": [
    "df.info()\n",
    "df.isnull().sum() / len(df) * 100"
   ]
  },
  {
   "cell_type": "markdown",
   "id": "43c0bcaa",
   "metadata": {},
   "source": [
    "## Payload vs Flight Number\n",
    "\n",
    "Examine whether the payload mass has any influence on the success of the landing, across different flights."
   ]
  },
  {
   "cell_type": "code",
   "execution_count": null,
   "id": "3c662210",
   "metadata": {},
   "outputs": [],
   "source": [
    "sns.catplot(data=df, x=\"FlightNumber\", y=\"PayloadMass\", hue=\"Class\", aspect=5)\n",
    "plt.xlabel(\"Flight Number\", fontsize=14)\n",
    "plt.ylabel(\"Payload Mass (kg)\", fontsize=14)\n",
    "plt.title(\"Payload vs Flight Number by Landing Success\")\n",
    "plt.show()"
   ]
  },
  {
   "cell_type": "markdown",
   "id": "5e13dcb9",
   "metadata": {},
   "source": [
    "## Launch Site Analysis\n",
    "\n",
    "Explore how landing success varies across different launch sites."
   ]
  },
  {
   "cell_type": "code",
   "execution_count": null,
   "id": "d1eb5d0e",
   "metadata": {},
   "outputs": [],
   "source": [
    "sns.catplot(data=df, x=\"FlightNumber\", y=\"LaunchSite\", hue=\"Class\", aspect=5)\n",
    "plt.xlabel(\"Flight Number\", fontsize=14)\n",
    "plt.ylabel(\"Launch Site\", fontsize=14)\n",
    "plt.title(\"Launch Site vs Flight Number by Success\")\n",
    "plt.show()"
   ]
  },
  {
   "cell_type": "markdown",
   "id": "aed308b3",
   "metadata": {},
   "source": [
    "## Payload Mass by Launch Site\n",
    "\n",
    "Next, we analyze how payload mass is distributed across launch sites and its potential effect on success rates."
   ]
  },
  {
   "cell_type": "code",
   "execution_count": null,
   "id": "f4065707",
   "metadata": {},
   "outputs": [],
   "source": [
    "sns.catplot(data=df, x=\"PayloadMass\", y=\"LaunchSite\", hue=\"Class\", aspect=5)\n",
    "plt.xlabel(\"Payload Mass (kg)\", fontsize=14)\n",
    "plt.ylabel(\"Launch Site\", fontsize=14)\n",
    "plt.title(\"Payload Mass vs Launch Site by Success\")\n",
    "plt.show()"
   ]
  },
  {
   "cell_type": "markdown",
   "id": "e7abbc5c",
   "metadata": {},
   "source": [
    "## Success Rate by Orbit\n",
    "\n",
    "We calculate the average success rate grouped by orbit type."
   ]
  },
  {
   "cell_type": "code",
   "execution_count": null,
   "id": "049c442b",
   "metadata": {},
   "outputs": [],
   "source": [
    "orbit_success = df.groupby(\"Orbit\")[\"Class\"].mean().reset_index()\n",
    "sns.catplot(data=orbit_success, x=\"Orbit\", y=\"Class\", kind=\"bar\")\n",
    "plt.xlabel(\"Orbit Type\", fontsize=14)\n",
    "plt.ylabel(\"Success Rate\", fontsize=14)\n",
    "plt.title(\"Landing Success Rate by Orbit\")\n",
    "plt.show()"
   ]
  },
  {
   "cell_type": "markdown",
   "id": "5b561913",
   "metadata": {},
   "source": [
    "## Orbit Type by Flight Number\n",
    "\n",
    "We now look at how different orbits were used across the flight timeline."
   ]
  },
  {
   "cell_type": "code",
   "execution_count": null,
   "id": "3b696711",
   "metadata": {},
   "outputs": [],
   "source": [
    "sns.catplot(data=df, x=\"FlightNumber\", y=\"Orbit\", hue=\"Class\", aspect=5)\n",
    "plt.xlabel(\"Flight Number\", fontsize=14)\n",
    "plt.ylabel(\"Orbit\", fontsize=14)\n",
    "plt.title(\"Orbit vs Flight Number by Success\")\n",
    "plt.show()"
   ]
  },
  {
   "cell_type": "markdown",
   "id": "2f63e5f0",
   "metadata": {},
   "source": [
    "## Success Rate Over Time\n",
    "\n",
    "We extract the launch year from the date column and analyze the trend of successful landings over the years."
   ]
  },
  {
   "cell_type": "code",
   "execution_count": null,
   "id": "ba69d96e",
   "metadata": {},
   "outputs": [],
   "source": [
    "df[\"Year\"] = pd.to_datetime(df[\"Date\"]).dt.year\n",
    "yearly_success = df.groupby(\"Year\")[\"Class\"].mean()\n",
    "\n",
    "sns.lineplot(x=yearly_success.index, y=yearly_success.values)\n",
    "plt.xlabel(\"Year\", fontsize=14)\n",
    "plt.ylabel(\"Success Rate\", fontsize=14)\n",
    "plt.title(\"Landing Success Rate Over Time\")\n",
    "plt.show()"
   ]
  },
  {
   "cell_type": "markdown",
   "id": "dcf249c2",
   "metadata": {},
   "source": [
    "# Feature Engineering\n",
    "\n",
    "In this section, we prepare the dataset for classification modeling by encoding categorical features."
   ]
  },
  {
   "cell_type": "code",
   "execution_count": null,
   "id": "43176429",
   "metadata": {},
   "outputs": [],
   "source": [
    "features = df[[\n",
    "    'FlightNumber', 'PayloadMass', 'Orbit', 'LaunchSite', 'Flights',\n",
    "    'GridFins', 'Reused', 'Legs', 'LandingPad', 'Block',\n",
    "    'ReusedCount', 'Serial'\n",
    "]]\n",
    "features.head()"
   ]
  },
  {
   "cell_type": "markdown",
   "id": "13558624",
   "metadata": {},
   "source": [
    "## One-Hot Encoding\n",
    "\n",
    "We transform the categorical variables into numerical format using one-hot encoding. This allows classification models to interpret the data properly."
   ]
  },
  {
   "cell_type": "code",
   "execution_count": null,
   "id": "f19ad1e9",
   "metadata": {},
   "outputs": [],
   "source": [
    "features_encoded = pd.get_dummies(features, columns=['Orbit', 'LaunchSite', 'LandingPad', 'Serial'])\n",
    "features_encoded = features_encoded.astype('float64')\n",
    "features_encoded.head()"
   ]
  },
  {
   "cell_type": "markdown",
   "id": "e0fe7b17",
   "metadata": {},
   "source": [
    "## Save Processed Dataset\n",
    "\n",
    "We save the final processed dataset for use in the next step of model building."
   ]
  },
  {
   "cell_type": "code",
   "execution_count": null,
   "id": "6b87c97c",
   "metadata": {},
   "outputs": [],
   "source": [
    "features_encoded.to_csv(\"data/processed/dataset_part_3.csv\", index=False)"
   ]
  }
 ],
 "metadata": {
  "kernelspec": {
   "display_name": "Python 3",
   "language": "python",
   "name": "python3"
  },
  "language_info": {
   "name": "python",
   "version": "3.13.2"
  }
 },
 "nbformat": 4,
 "nbformat_minor": 5
}
