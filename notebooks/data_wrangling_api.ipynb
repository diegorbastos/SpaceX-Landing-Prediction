{
 "cells": [
  {
   "cell_type": "markdown",
   "id": "934d711c",
   "metadata": {},
   "source": [
    "# Falcon 9 Launch Data: Wrangling and Exploration\n",
    "\n",
    "This notebook performs data cleaning and basic exploratory analysis on the Falcon 9 launch dataset collected from the SpaceX API."
   ]
  },
  {
   "cell_type": "code",
   "execution_count": null,
   "id": "ece352d3",
   "metadata": {},
   "outputs": [],
   "source": [
    "import pandas as pd\n",
    "import numpy as np"
   ]
  },
  {
   "cell_type": "markdown",
   "id": "70e4d5e7",
   "metadata": {},
   "source": [
    "## Load Dataset\n",
    "\n",
    "We start by loading the dataset from the SpaceX API."
   ]
  },
  {
   "cell_type": "code",
   "execution_count": null,
   "id": "a01f0411",
   "metadata": {},
   "outputs": [],
   "source": [
    "df = pd.read_csv(\"../data/raw/dataset_part_1.csv\")\n",
    "\n",
    "df.head(10)"
   ]
  },
  {
   "cell_type": "markdown",
   "id": "3b2d5b6a",
   "metadata": {},
   "source": [
    "## Check for Missing Values\n",
    "\n",
    "We inspect the dataset to identify any missing values in the columns."
   ]
  },
  {
   "cell_type": "code",
   "execution_count": null,
   "id": "238837db",
   "metadata": {},
   "outputs": [],
   "source": [
    "# Percentual de valores ausentes por coluna\n",
    "df.isnull().sum() / df.shape[0] * 100"
   ]
  },
  {
   "cell_type": "code",
   "execution_count": null,
   "id": "140bc105",
   "metadata": {},
   "outputs": [],
   "source": [
    "df.dtypes"
   ]
  },
  {
   "cell_type": "markdown",
   "id": "2f019122",
   "metadata": {},
   "source": [
    "## Most Frequent Launch Sites\n",
    "\n",
    "We use `value_counts()` to explore the most common launch sites."
   ]
  },
  {
   "cell_type": "code",
   "execution_count": null,
   "id": "aa2014b8",
   "metadata": {},
   "outputs": [],
   "source": [
    "# Frequência de cada local de lançamento\n",
    "df['LaunchSite'].value_counts()"
   ]
  },
  {
   "cell_type": "markdown",
   "id": "774bd0cf",
   "metadata": {},
   "source": [
    "## Most Common Orbits\n",
    "\n",
    "Next, we examine the distribution of orbits used in the launches."
   ]
  },
  {
   "cell_type": "code",
   "execution_count": null,
   "id": "0eff6bbf",
   "metadata": {},
   "outputs": [],
   "source": [
    "# Frequência de cada tipo de órbita\n",
    "df['Orbit'].value_counts()"
   ]
  },
  {
   "cell_type": "markdown",
   "id": "59064833",
   "metadata": {},
   "source": [
    "## Landing Outcome Analysis\n",
    "\n",
    "The `Outcome` column records the landing result of the booster. We classify the outcomes into successful and failed landings."
   ]
  },
  {
   "cell_type": "code",
   "execution_count": null,
   "id": "55408469",
   "metadata": {},
   "outputs": [],
   "source": [
    "# Frequência de cada tipo de pouso\n",
    "landing_outcomes = df['Outcome'].value_counts()\n",
    "landing_outcomes"
   ]
  },
  {
   "cell_type": "code",
   "execution_count": null,
   "id": "d7585b43",
   "metadata": {},
   "outputs": [],
   "source": [
    "# Visualização com índice\n",
    "for i, outcome in enumerate(landing_outcomes.keys()):\n",
    "    print(i, outcome)"
   ]
  },
  {
   "cell_type": "code",
   "execution_count": null,
   "id": "746539fa",
   "metadata": {},
   "outputs": [],
   "source": [
    "# Define quais outcomes são considerados falha (baseado nos índices anteriores)\n",
    "bad_outcomes = set(landing_outcomes.keys()[[1, 3, 5, 6, 7]])\n",
    "bad_outcomes"
   ]
  },
  {
   "cell_type": "markdown",
   "id": "198b2261",
   "metadata": {},
   "source": [
    "## Create Binary Landing Success Column\n",
    "\n",
    "We create a new column `Class` that encodes landing success:\n",
    "- 1 for successful landing\n",
    "- 0 for failure"
   ]
  },
  {
   "cell_type": "code",
   "execution_count": null,
   "id": "6c52d73a",
   "metadata": {},
   "outputs": [],
   "source": [
    "# variável binária Class\n",
    "landing_class = []\n",
    "\n",
    "for _, value in df['Outcome'].items():\n",
    "    if value in bad_outcomes:\n",
    "        landing_class.append(0)\n",
    "    else:\n",
    "        landing_class.append(1)\n",
    "\n",
    "df['Class'] = landing_class"
   ]
  },
  {
   "cell_type": "code",
   "execution_count": null,
   "id": "9c6ec509",
   "metadata": {},
   "outputs": [],
   "source": [
    "df[['Class']].head(8)"
   ]
  },
  {
   "cell_type": "code",
   "execution_count": null,
   "id": "9e215291",
   "metadata": {},
   "outputs": [],
   "source": [
    "# Proporção de pousos bem-sucedidos\n",
    "df[\"Class\"].mean()"
   ]
  },
  {
   "cell_type": "markdown",
   "id": "52798b9f",
   "metadata": {},
   "source": [
    "## Save Cleaned Dataset\n",
    "\n",
    "We export the resulting dataframe with the new `Class` column to `dataset_part_2.csv` for future use in modeling."
   ]
  },
  {
   "cell_type": "code",
   "execution_count": null,
   "id": "c4ca12dc",
   "metadata": {},
   "outputs": [],
   "source": [
    "# Salva o dataset com a nova coluna Class\n",
    "df.to_csv(\"../data/processed/dataset_part_2.csv\", index=False)"
   ]
  }
 ],
 "metadata": {
  "kernelspec": {
   "display_name": "Python 3",
   "language": "python",
   "name": "python3"
  },
  "language_info": {
   "codemirror_mode": {
    "name": "ipython",
    "version": 3
   },
   "file_extension": ".py",
   "mimetype": "text/x-python",
   "name": "python",
   "nbconvert_exporter": "python",
   "pygments_lexer": "ipython3",
   "version": "3.13.2"
  }
 },
 "nbformat": 4,
 "nbformat_minor": 5
}
