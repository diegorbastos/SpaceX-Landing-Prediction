{
 "cells": [
  {
   "cell_type": "markdown",
   "id": "58954172",
   "metadata": {},
   "source": [
    "\n",
    "# Visual Analytics with Folium\n",
    "\n",
    "This notebook provides interactive geospatial visualizations using Folium to explore SpaceX launch sites and their proximities. It is organized into three tasks:\n",
    "\n",
    "- **Task 1**: Mark all launch sites on the map.\n",
    "- **Task 2**: Display success or failure for each launch.\n",
    "- **Task 3**: Calculate and visualize distances to nearby infrastructure.\n"
   ]
  },
  {
   "cell_type": "code",
   "execution_count": null,
   "id": "2586f7fe",
   "metadata": {},
   "outputs": [],
   "source": [
    "\n",
    "import folium\n",
    "import wget\n",
    "import pandas as pd\n",
    "import os\n",
    "from folium.plugins import MarkerCluster, MousePosition\n",
    "from folium.features import DivIcon\n",
    "from math import sin, cos, sqrt, atan2, radians\n"
   ]
  },
  {
   "cell_type": "code",
   "execution_count": null,
   "id": "2333e1cd",
   "metadata": {},
   "outputs": [],
   "source": [
    "destination_path = \"../data/raw/spacex_launch_geo.csv\"\n",
    "path = \"../data/raw/spacex_launch_geo.csv\"\n",
    "if os.path.exists(path):\n",
    "    os.remove(path)\n",
    "\n",
    "spacex_csv_file = wget.download(\n",
    "    'https://cf-courses-data.s3.us.cloud-object-storage.appdomain.cloud/IBM-DS0321EN-SkillsNetwork/datasets/spacex_launch_geo.csv',\n",
    "    out=destination_path\n",
    ")\n",
    "\n",
    "spacex_df = pd.read_csv(spacex_csv_file)"
   ]
  },
  {
   "cell_type": "markdown",
   "id": "43fd6360",
   "metadata": {},
   "source": [
    "### TASK 1: Mark All Launch Sites on a Map"
   ]
  },
  {
   "cell_type": "code",
   "execution_count": null,
   "id": "ff48d204",
   "metadata": {},
   "outputs": [],
   "source": [
    "\n",
    "spacex_df = spacex_df[['Launch Site', 'Lat', 'Long', 'class']]\n",
    "launch_sites_df = spacex_df.groupby(['Launch Site'], as_index=False).first()[['Launch Site', 'Lat', 'Long']]\n",
    "launch_sites_df\n"
   ]
  },
  {
   "cell_type": "code",
   "execution_count": null,
   "id": "029806e5",
   "metadata": {},
   "outputs": [],
   "source": [
    "\n",
    "# start location is NASA Johnson Space Center\n",
    "nasa_coordinate = [29.559684888503615, -95.0830971930759]\n",
    "site_map = folium.Map(location=nasa_coordinate, zoom_start=10)\n"
   ]
  },
  {
   "cell_type": "code",
   "execution_count": null,
   "id": "d9108758",
   "metadata": {},
   "outputs": [],
   "source": [
    "# create a circle at NASA JSC coordinate with a popup label showing its name\n",
    "circle = folium.Circle(nasa_coordinate, radius=1000, color='#d35400', fill=True).add_child(folium.Popup('NASA Johnson Space Center'))\n",
    "marker = folium.map.Marker(\n",
    "    nasa_coordinate,\n",
    "    icon=DivIcon(\n",
    "        icon_size=(20,20),\n",
    "        icon_anchor=(0,0),\n",
    "        html='<div style=\"font-size: 12; color:#d35400;\"><b>%s</b></div>' % 'NASA JSC',\n",
    "        )\n",
    "    )\n",
    "site_map.add_child(circle)\n",
    "site_map.add_child(marker)"
   ]
  },
  {
   "cell_type": "code",
   "execution_count": null,
   "id": "dab981d6",
   "metadata": {},
   "outputs": [],
   "source": [
    "site_map = folium.Map(location=nasa_coordinate, zoom_start=5)\n",
    "# dor each launch site, add a circle object based on its coordinate values. in addition, add launch site name as a popup label\n",
    "for launch_site, site_lat, site_long in zip(launch_sites_df['Launch Site'], launch_sites_df['Lat'], launch_sites_df['Long']):\n",
    "    site_coordinate = [site_lat, site_long]\n",
    "    \n",
    "    circle = folium.Circle(site_coordinate, radius=1000, color='#d35400', fill=True).add_child(folium.Popup(launch_site))\n",
    "    \n",
    "    marker = folium.map.Marker(\n",
    "        site_coordinate,\n",
    "        icon=DivIcon(\n",
    "            icon_size=(20, 20),\n",
    "            icon_anchor=(0, 0),\n",
    "            html='<div style=\"font-size: 12; color:#d35400;\"><b>%s</b></div>' % launch_site,\n",
    "            )\n",
    "        )\n",
    "    site_map.add_child(circle)\n",
    "    site_map.add_child(marker)\n",
    "site_map"
   ]
  },
  {
   "cell_type": "markdown",
   "id": "6947a6c8",
   "metadata": {},
   "source": [
    "### TASK 1: Conclusions\n",
    "\n",
    "* Most of the launch sites considered in this project are located near the Equator. Launching rockets from equatorial regions provides a velocity boost due to the Earth's rotation which is advantageous for orbital insertions.\n",
    "* All launch sites analyzed are situated very close to coastal areas. This strategic location minimizes the risk to human populations by ensuring that launch trajectories are directed over the ocean, reducing the danger of debris falling on inhabited zones."
   ]
  },
  {
   "cell_type": "markdown",
   "id": "fd7a9056",
   "metadata": {},
   "source": [
    "### TASK 2: Mark Success and Failure Launches for Each Site"
   ]
  },
  {
   "cell_type": "code",
   "execution_count": null,
   "id": "3090343e",
   "metadata": {},
   "outputs": [],
   "source": [
    "spacex_df.tail(10)"
   ]
  },
  {
   "cell_type": "code",
   "execution_count": null,
   "id": "73d13129",
   "metadata": {},
   "outputs": [],
   "source": [
    "marker_cluster = MarkerCluster()"
   ]
  },
  {
   "cell_type": "code",
   "execution_count": null,
   "id": "0933785b",
   "metadata": {},
   "outputs": [],
   "source": [
    "# apply a function to check the value of 'class' column\n",
    "# if class=1, marker_color value will be green\n",
    "# if class=0, marker_color value will be red\n",
    "spacex_df['marker_color'] = list(map(lambda x: 'green' if x==1 else 'red', spacex_df['class']))\n",
    "spacex_df.tail(10)"
   ]
  },
  {
   "cell_type": "code",
   "execution_count": null,
   "id": "ef2bd241",
   "metadata": {},
   "outputs": [],
   "source": [
    "# assign color to launch outcome\n",
    "def assign_marker_color(launch_outcome):\n",
    "    if launch_outcome == 1:\n",
    "        return 'green'\n",
    "    else:\n",
    "        return 'red'\n",
    "    \n",
    "spacex_df['marker_color'] = spacex_df['class'].apply(assign_marker_color)\n",
    "spacex_df.tail(10)"
   ]
  },
  {
   "cell_type": "code",
   "execution_count": null,
   "id": "b7c180d7",
   "metadata": {},
   "outputs": [],
   "source": [
    "site_map.add_child(marker_cluster)\n",
    "for site_lat, site_long, marker_color in zip(spacex_df['Lat'], spacex_df['Long'], spacex_df['marker_color']):\n",
    "    site_coordinate = [site_lat, site_long]\n",
    "    marker = folium.map.Marker(\n",
    "        site_coordinate,\n",
    "        icon=folium.Icon(color='white', \n",
    "                         icon_color=marker_color)\n",
    "    )\n",
    "    marker.add_to(marker_cluster)\n",
    "\n",
    "site_map"
   ]
  },
  {
   "cell_type": "markdown",
   "id": "5e9be830",
   "metadata": {},
   "source": [
    "### TASK 3: Calculate Distances from Launch Site to Nearby Infrastructure"
   ]
  },
  {
   "cell_type": "code",
   "execution_count": null,
   "id": "e7c07264",
   "metadata": {},
   "outputs": [],
   "source": [
    "# add mouse position to get the coordinate (Lat, Long) for a mouse over on the map\n",
    "formatter = \"function(num) {return L.Util.formatNum(num, 5);};\"\n",
    "mouse_position = MousePosition(\n",
    "    position='topright',\n",
    "    separator=' Long: ',\n",
    "    empty_string='NaN',\n",
    "    lng_first=False,\n",
    "    num_digits=20,\n",
    "    prefix='Lat:',\n",
    "    lat_formatter=formatter,\n",
    "    lng_formatter=formatter,\n",
    ")\n",
    "\n",
    "site_map.add_child(mouse_position)\n",
    "site_map"
   ]
  },
  {
   "cell_type": "code",
   "execution_count": null,
   "id": "6780d218",
   "metadata": {},
   "outputs": [],
   "source": [
    "from math import sin, cos, sqrt, atan2, radians\n",
    "\n",
    "def calculate_distance(lat1, lon1, lat2, lon2):\n",
    "    # approximate radius of earth in km\n",
    "    R = 6373.0\n",
    "\n",
    "    lat1 = radians(lat1)\n",
    "    lon1 = radians(lon1)\n",
    "    lat2 = radians(lat2)\n",
    "    lon2 = radians(lon2)\n",
    "\n",
    "    dlon = lon2 - lon1\n",
    "    dlat = lat2 - lat1\n",
    "\n",
    "    a = sin(dlat / 2)**2 + cos(lat1) * cos(lat2) * sin(dlon / 2)**2\n",
    "    c = 2 * atan2(sqrt(a), sqrt(1 - a))\n",
    "\n",
    "    distance = R * c\n",
    "    return distance"
   ]
  },
  {
   "cell_type": "code",
   "execution_count": null,
   "id": "f0503668",
   "metadata": {},
   "outputs": [],
   "source": [
    "# distance_railway = calculate_distance(lat1, lon1, lat2, lon2)\n",
    "railway_marker = [28.55752, -80.80155]\n",
    "launch_coordinate = [28.57337, -80.64669]\n",
    "distance_railway = calculate_distance(railway_marker[0], railway_marker[1], launch_coordinate[0], launch_coordinate[1])\n",
    "distance_railway  # distance in km"
   ]
  },
  {
   "cell_type": "code",
   "execution_count": null,
   "id": "ad91834f",
   "metadata": {},
   "outputs": [],
   "source": [
    "# create and add a folium.Marker on your selected closest raiwaly point on the map\n",
    "# show the distance to the launch site using the icon property \n",
    "marker = folium.map.Marker(\n",
    "        railway_marker,\n",
    "        icon=DivIcon(\n",
    "            icon_size=(400, 400),\n",
    "            icon_anchor=(0, 0),\n",
    "            html='<div style=\"font-size:400; color:#0c10f2;\"><b>%s</b></div>' % str(round(distance_railway, 2))+' km',\n",
    "            )\n",
    "    )\n",
    "marker.add_to(site_map)\n",
    "\n",
    "site_map"
   ]
  },
  {
   "cell_type": "code",
   "execution_count": null,
   "id": "73f6d353",
   "metadata": {},
   "outputs": [],
   "source": [
    "# create a `folium.PolyLine` object using the railway point coordinate and launch site coordinate\n",
    "folium.PolyLine([railway_marker, launch_coordinate], color='blue').add_to(site_map)\n",
    "site_map"
   ]
  },
  {
   "cell_type": "code",
   "execution_count": null,
   "id": "d905e783",
   "metadata": {},
   "outputs": [],
   "source": [
    "# create a marker with distance to a closest city, coastline, highway, etc.\n",
    "# draw a line between the marker to the launch site\n",
    "city   = [28.61200, -80.80788]\n",
    "coastline = [28.5858, -80.79952]\n",
    "highway   = [28.5402, -80.85079]\n",
    "\n",
    "city_distance = calculate_distance(city[0], city[1], launch_coordinate[0], launch_coordinate[1])\n",
    "coastline_distance = calculate_distance(coastline[0], coastline[1], launch_coordinate[0], launch_coordinate[1])\n",
    "highway_distance = calculate_distance(highway[0], highway[1], launch_coordinate[0], launch_coordinate[1])\n",
    "\n",
    "colors = ['red','orange','green']\n",
    "html_colors = ['#dc3545','#fd7e14','#198754']\n",
    "\n",
    "for coordinate ,distance, color, html_color in zip([city, coastline, highway], [city_distance, coastline_distance, highway_distance], colors, html_colors):\n",
    "    marker = folium.map.Marker(\n",
    "            coordinate,\n",
    "            icon=DivIcon(\n",
    "                icon_size=(20,20),\n",
    "                icon_anchor=(0,0),\n",
    "                html='<div style=\"font-size: 12; color:'+html_color+';\"><b>%s</b></div>' % str(round(distance, 2)) + 'km',\n",
    "                )\n",
    "            )\n",
    "    marker.add_to(site_map)\n",
    "    folium.PolyLine([coordinate, launch_coordinate], color=color).add_to(site_map)\n",
    "site_map"
   ]
  },
  {
   "cell_type": "markdown",
   "id": "4a2ad026",
   "metadata": {},
   "source": [
    "### TASK 3: Conclusions\n",
    "\n",
    "From the visual analysis of the KSC LC-39A launch site, we observe that:\n",
    "\n",
    "* It is relatively close to the railway system (15.23 km)\n",
    "* It is approximately 14.99 km away from the coastline\n",
    "* The nearest highway is 20.28 km away\n",
    "* The closest city, Titusville, is located 16.32 km away\n",
    "\n",
    "Given the high speeds reached during rocket launches and potential failure scenarios, the observed distances (ranging from 15–20 km) are relatively short. This highlights the importance of strict safety protocols and reinforces the rationale behind placing launch sites near unpopulated, coastal areas."
   ]
  }
 ],
 "metadata": {
  "kernelspec": {
   "display_name": "Python 3",
   "language": "python",
   "name": "python3"
  },
  "language_info": {
   "codemirror_mode": {
    "name": "ipython",
    "version": 3
   },
   "file_extension": ".py",
   "mimetype": "text/x-python",
   "name": "python",
   "nbconvert_exporter": "python",
   "pygments_lexer": "ipython3",
   "version": "3.13.2"
  }
 },
 "nbformat": 4,
 "nbformat_minor": 5
}
